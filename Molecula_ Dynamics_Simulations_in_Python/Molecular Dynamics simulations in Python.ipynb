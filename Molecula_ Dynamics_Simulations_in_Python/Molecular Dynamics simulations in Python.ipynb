{
 "cells": [
  {
   "cell_type": "markdown",
   "id": "97ee3595",
   "metadata": {},
   "source": [
    "## INCOMPLETE"
   ]
  },
  {
   "cell_type": "code",
   "execution_count": 1,
   "id": "88673a7a",
   "metadata": {},
   "outputs": [],
   "source": [
    "import numpy as np\n",
    "import matplotlib.pyplot as plt\n",
    "from matplotlib import animation\n",
    "\n",
    "fig, ax = plt.subplots(figsize=(8,8))\n",
    "\n",
    "ax.set(xlim=(-2, 2), ylim=(0, 600), xlabel='Position, meters', ylabel='Height, meters', title='Apple falling from CN tower')\n",
    "\n",
    "T = 10\n",
    "m = 0.3\n",
    "g = 9.8\n",
    "v0x = -0.1\n",
    "H = 553\n",
    "\n",
    "dt = 0.05\n",
    "N = int(T / dt)\n",
    "\n",
    "# Allocating arrays for 2D problem\n",
    "v = np.zeros((N+1, 2))\n",
    "r = np.zeros((N+1, 2))\n",
    "f = np.zeros((N+1, 2))\n",
    "\n",
    "r[0] = np.array([0, H])\n",
    "v[0] = np.array([-v0x, 0])\n",
    "\n",
    "# the only force is gravity\n",
    "f[:] = np.array([0., -m * g])\n",
    "\n",
    "## Run dynamics:\n",
    "for n in range(N):\n",
    "    v[n+1] = v[n] + f[n]/m * dt\n",
    "    r[n+1] = r[n] + v[n+1] * dt\n",
    "\n",
    "## drawing the first data point  \n",
    "scat = ax.scatter(r[0,0], r[0,1], marker='o', c='g', s=200)\n",
    "\n",
    "## animating \n",
    "def animate(i):\n",
    "    scat.set_offsets(r[i])\n",
    "\n",
    "ani = animation.FuncAnimation(fig, func=animate, frames=N)\n",
    "## this function will create a lot of *.png files in a folder 'CNtower_frames'\n",
    "## and create an HTML page with a simulation\n",
    "ani.save('CNtower.html', writer=animation.HTMLWriter(fps= 1//dt))\n",
    "plt.close()\n",
    "#ani.save('CNtower.mp4', fps= 1//dt)"
   ]
  },
  {
   "cell_type": "code",
   "execution_count": null,
   "id": "e2b69e79",
   "metadata": {},
   "outputs": [],
   "source": [
    "from IPython.display import HTML\n",
    "HTML('CNtower.html')"
   ]
  },
  {
   "cell_type": "markdown",
   "id": "20cfd1e0",
   "metadata": {},
   "source": []
  },
  {
   "cell_type": "code",
   "execution_count": null,
   "id": "6556c631",
   "metadata": {},
   "outputs": [],
   "source": [
    "# Setup the figure and axes...\n",
    "fig, ax = plt.subplots(figsize=(6,6))\n",
    "ax.set(xlim=(-3.5, 3.5), ylim=(-3.5, 3.5), ylabel='meters', xlabel='meters', title='3-Body problem')\n",
    "\n",
    "# parameters of the problem\n",
    "T = 10. #s\n",
    "m = 1.0 #kg\n",
    "ks = 5 #N/m\n",
    "r0 = 1. #m\n",
    "\n",
    "# setting a timestep to be 50 ms\n",
    "dt = 0.05 #s\n",
    "N = int(T / dt)\n",
    "\n",
    "# Allocating arrays for 2D problem: first axis - time. second axis - particle's number. third - coordinate\n",
    "v = np.zeros((N+1, 3, 2))\n",
    "r = np.zeros((N+1, 3, 2))\n",
    "f = np.zeros((N+1, 3, 2))\n",
    "\n",
    "# initial conditions for 3 particles:\n",
    "r[0,0] = np.array([0., 2.])\n",
    "r[0,1] = np.array([2., 0.])\n",
    "r[0,2] = np.array([-1., 0.])\n",
    "\n",
    "def compute_forces(n):\n",
    "    '''The function computes forces on each pearticle at time step n'''\n",
    "    for i in range(3):\n",
    "        for j in range(3):\n",
    "            if i != j:\n",
    "                rij = r[n,i] - r[n,j]\n",
    "                rij_abs = np.linalg.norm(rij)\n",
    "                f[n, i] -= ks * (rij_abs - r0) * rij / rij_abs \n",
    "## Run dynamics:\n",
    "for n in range(N):\n",
    "    compute_forces(n)\n",
    "    v[n+1] = v[n] + f[n]/m * dt\n",
    "    r[n+1] = r[n] + v[n+1] * dt\n",
    "\n",
    "## drawing and animating \n",
    "scat = ax.scatter(r[0,:,0], r[0,:,1], marker='o', c=['b', 'k', 'r'], s=1000)\n",
    "\n",
    "def animate(i):\n",
    "    scat.set_offsets(r[i])\n",
    "\n",
    "ani = animation.FuncAnimation(fig, animate, frames=N)\n",
    "plt.close()\n",
    "## this function will create a lot of *.png files in a folder '3Body_frames'\n",
    "ani.save('3body.html', writer=animation.HTMLWriter(fps= 1//dt))"
   ]
  },
  {
   "cell_type": "code",
   "execution_count": null,
   "id": "1ec17857",
   "metadata": {},
   "outputs": [],
   "source": [
    "HTML('3body.html')"
   ]
  }
 ],
 "metadata": {
  "kernelspec": {
   "display_name": "Python 3.9.12 ('base')",
   "language": "python",
   "name": "python3"
  },
  "language_info": {
   "codemirror_mode": {
    "name": "ipython",
    "version": 3
   },
   "file_extension": ".py",
   "mimetype": "text/x-python",
   "name": "python",
   "nbconvert_exporter": "python",
   "pygments_lexer": "ipython3",
   "version": "3.9.12"
  },
  "vscode": {
   "interpreter": {
    "hash": "ec7997cbd54d87edba654026e2a652b93bc6051da1342c7fe6c251ffda352ebe"
   }
  }
 },
 "nbformat": 4,
 "nbformat_minor": 5
}
