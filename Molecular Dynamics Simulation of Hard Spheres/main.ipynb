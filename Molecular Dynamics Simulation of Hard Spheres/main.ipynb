{
 "cells": [
  {
   "cell_type": "code",
   "execution_count": 1,
   "metadata": {},
   "outputs": [],
   "source": [
    "import random\n",
    "import numpy as np\n",
    "\n",
    "class selfarticle:\n",
    "    def __init__ (self):\n",
    "        radius = 0.01\n",
    "        masss = 0.5\n",
    "        rx = random.uniform(0.0, 1.0)\n",
    "        ry = random.uniform(0.0, 1.0)\n",
    "        vx = random.uniform(-0.005, 0.005)\n",
    "        vy = random.uniform(-0.005, 0.005)\n",
    "\n",
    "infinity = np.inf\n",
    "\n",
    "def setter(self, dt):\n",
    "    self.rx += self.vx * dt\n",
    "    self.ry += self.vy * dt\n",
    "\n",
    "def time_hit_wall_x(self):\n",
    "    if self.vx > 0: return (1.0 - self.rx - self.r) / self.vx\n",
    "    elif self.vx < 0: return (self.r -self.rx) / self.vx\n",
    "    else: return infinity\n",
    "\n",
    "def time_hit_wall_y(self):\n",
    "    if self.vy > 0: return (1.0 - self.ry - self.r) / self.vy\n",
    "    elif self.vy < 0: return (self.r -self.ry) / self.vy\n",
    "    else: return infinity\n",
    "\n",
    "def bounce_wall_x(self):\n",
    "    self.vx = -self.vx\n",
    "\n",
    "def bounce_wall_y(self):\n",
    "    self.vy = -self.vy\n",
    "\n",
    "def time_to_hit(self):\n",
    "    "
   ]
  },
  {
   "cell_type": "code",
   "execution_count": null,
   "metadata": {},
   "outputs": [],
   "source": []
  }
 ],
 "metadata": {
  "kernelspec": {
   "display_name": "Python 3.10.5 64-bit",
   "language": "python",
   "name": "python3"
  },
  "language_info": {
   "codemirror_mode": {
    "name": "ipython",
    "version": 3
   },
   "file_extension": ".py",
   "mimetype": "text/x-python",
   "name": "python",
   "nbconvert_exporter": "python",
   "pygments_lexer": "ipython3",
   "version": "3.10.5"
  },
  "orig_nbformat": 4,
  "vscode": {
   "interpreter": {
    "hash": "b6213e0af081d56db034f795ff49d96980936e2ae540dda57fc6c3cbea6a5fc9"
   }
  }
 },
 "nbformat": 4,
 "nbformat_minor": 2
}
