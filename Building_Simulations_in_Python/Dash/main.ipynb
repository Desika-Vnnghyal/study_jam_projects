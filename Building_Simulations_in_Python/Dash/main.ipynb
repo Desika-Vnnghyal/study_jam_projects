{
 "cells": [
  {
   "cell_type": "code",
   "execution_count": 11,
   "metadata": {},
   "outputs": [
    {
     "name": "stdout",
     "output_type": "stream",
     "text": [
      "75\n"
     ]
    }
   ],
   "source": [
    "import dash\n",
    "import plotly.express as px\n",
    "import pandas as pd\n",
    "from dash import html\n",
    "from dash import dcc\n",
    "from dash.dependencies import Output, Input\n",
    "\n",
    "# Data Exploration with Pandas\n",
    "# ------------------------------------------------------------------------------------------------------------\n",
    "# df = pd.read_excel(\"dash_data.xlsx\") # it is very slow compared to csv\n",
    "df = pd.read_csv(\"dash_data.csv\")\n",
    "# print(df[:5]) # print 5 rows\n",
    "# print(df.iloc[:5, [0,5]]) # print 5 rows and 1st + 6th column using iloc\n",
    "# print(df.loc[:5, [\"Simulation with Default Code\"]]) # print 5 rows of 6th column using loc\n",
    "\n",
    "# print(df['For Basics Simulation'].nunique()) # unable to use column name? # solved\n",
    "# print(df.Year.nunique()) \n",
    "\n",
    "# print(df.For Basics Simulation.nunique())\n",
    "# print(df.nunique(0)) # number of unique  entries row-wise\n",
    "# print(df.nunique(1)) # number of unique entries column-wise\n",
    "\n",
    "# Data Visualization with Plotly\n",
    "# ------------------------------------------------------------------------------------------------------------\n",
    "fig_line = px.line(data_frame=df, y=\"For Basics Simulation\")\n",
    "fig_line.show()\n",
    "fig_line = px.line(data_frame=df, y=\"Simulation with added variable\")\n",
    "fig_line.show()\n",
    "fig_line = px.line(data_frame=df, y=\"Infant Mortality rate is 25%\", x=\"Year\")\n",
    "fig_line.show()\n",
    "fig_line = px.line(data_frame=df, y=\"Infant Mortality rate is 25% which decreases by 1.5% every year\", x=\"Year\")\n",
    "fig_line.show()\n",
    "fig_line = px.line(data_frame=df, y=\"with Disaster chances, once in 10 year\", x=\"Year\")\n",
    "fig_line.show()\n",
    "fig_line = px.line(data_frame=df, y=\"Simulation with Default Code\", x=\"Year\")\n",
    "fig_line.show()\n",
    "# fig_hist = px.histogramx(data_frame=df, y=\"Simulation with Default Code\", x=\"Year\")\n",
    "# fig_hist.show()"
   ]
  },
  {
   "cell_type": "code",
   "execution_count": 3,
   "metadata": {},
   "outputs": [
    {
     "name": "stdout",
     "output_type": "stream",
     "text": [
      "Dash is running on http://127.0.0.1:8050/\n",
      "\n",
      " * Serving Flask app \"__main__\" (lazy loading)\n",
      " * Environment: production\n",
      "\u001b[31m   WARNING: This is a development server. Do not use it in a production deployment.\u001b[0m\n",
      "\u001b[2m   Use a production WSGI server instead.\u001b[0m\n",
      " * Debug mode: off\n"
     ]
    },
    {
     "name": "stderr",
     "output_type": "stream",
     "text": [
      " * Running on http://127.0.0.1:8050/ (Press CTRL+C to quit)\n",
      "127.0.0.1 - - [27/Jun/2022 13:33:07] \"GET / HTTP/1.1\" 200 -\n",
      "127.0.0.1 - - [27/Jun/2022 13:33:08] \"GET /_dash-layout HTTP/1.1\" 200 -\n",
      "127.0.0.1 - - [27/Jun/2022 13:33:08] \"GET /_dash-dependencies HTTP/1.1\" 200 -\n",
      "127.0.0.1 - - [27/Jun/2022 13:33:08] \"GET /_dash-component-suites/dash/dcc/async-graph.js HTTP/1.1\" 200 -\n",
      "127.0.0.1 - - [27/Jun/2022 13:33:08] \"GET /_dash-component-suites/dash/dcc/async-dropdown.js HTTP/1.1\" 200 -\n",
      "127.0.0.1 - - [27/Jun/2022 13:33:08] \"GET /_dash-component-suites/dash/dcc/async-plotlyjs.js HTTP/1.1\" 200 -\n",
      "127.0.0.1 - - [27/Jun/2022 13:33:08] \"POST /_dash-update-component HTTP/1.1\" 200 -\n",
      "127.0.0.1 - - [27/Jun/2022 13:33:23] \"POST /_dash-update-component HTTP/1.1\" 200 -\n",
      "127.0.0.1 - - [27/Jun/2022 13:33:26] \"POST /_dash-update-component HTTP/1.1\" 200 -\n",
      "127.0.0.1 - - [27/Jun/2022 13:33:30] \"POST /_dash-update-component HTTP/1.1\" 200 -\n",
      "127.0.0.1 - - [27/Jun/2022 13:33:33] \"POST /_dash-update-component HTTP/1.1\" 200 -\n",
      "127.0.0.1 - - [27/Jun/2022 13:33:36] \"POST /_dash-update-component HTTP/1.1\" 200 -\n"
     ]
    }
   ],
   "source": [
    "app = dash.Dash(__name__)\n",
    "app.layout = html.Div([\n",
    "    html.H1(\"Graph Analysis\", style={'text-align':'center'}),\n",
    "    dcc.Dropdown(id='graph_type', options=[{'label':x, 'value':x}\n",
    "    for x in df.iloc[:0,1:]],\n",
    "    value = 'For Basics Simulation'),\n",
    "    dcc.Graph(id='graph', figure = {})\n",
    "])\n",
    "\n",
    "@app.callback(\n",
    "    Output(component_id='graph', component_property='figure'),\n",
    "    Input(component_id='graph_type', component_property='value')\n",
    ")\n",
    "def interactive_graph(value):\n",
    "    # print(value)\n",
    "    fig = px.line(data_frame=df, x='Year', y=value)\n",
    "    return fig\n",
    "\n",
    "if __name__ == '__main__':\n",
    "    app.run_server()"
   ]
  }
 ],
 "metadata": {
  "kernelspec": {
   "display_name": "Python 3.9.12 ('base')",
   "language": "python",
   "name": "python3"
  },
  "language_info": {
   "codemirror_mode": {
    "name": "ipython",
    "version": 3
   },
   "file_extension": ".py",
   "mimetype": "text/x-python",
   "name": "python",
   "nbconvert_exporter": "python",
   "pygments_lexer": "ipython3",
   "version": "3.9.12"
  },
  "orig_nbformat": 4,
  "vscode": {
   "interpreter": {
    "hash": "ec7997cbd54d87edba654026e2a652b93bc6051da1342c7fe6c251ffda352ebe"
   }
  }
 },
 "nbformat": 4,
 "nbformat_minor": 2
}
