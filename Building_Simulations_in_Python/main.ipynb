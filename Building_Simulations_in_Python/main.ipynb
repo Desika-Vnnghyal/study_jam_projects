{
 "cells": [
  {
   "cell_type": "markdown",
   "id": "a0666a26",
   "metadata": {},
   "source": [
    "### The Most Basic Simulation"
   ]
  },
  {
   "cell_type": "code",
   "execution_count": 1,
   "id": "d622692a",
   "metadata": {},
   "outputs": [
    {
     "name": "stdout",
     "output_type": "stream",
     "text": [
      "53\n",
      "57\n",
      "61\n",
      "66\n",
      "70\n",
      "76\n",
      "81\n",
      "87\n",
      "93\n",
      "100\n",
      "107\n",
      "115\n",
      "123\n",
      "132\n",
      "142\n",
      "152\n",
      "163\n",
      "175\n",
      "188\n",
      "202\n",
      "216\n",
      "232\n",
      "249\n",
      "267\n",
      "286\n",
      "307\n",
      "329\n",
      "353\n",
      "378\n",
      "406\n",
      "435\n",
      "467\n",
      "500\n",
      "537\n",
      "575\n",
      "617\n",
      "662\n",
      "710\n",
      "761\n",
      "816\n",
      "875\n",
      "938\n",
      "1006\n",
      "1079\n",
      "1157\n",
      "1241\n",
      "1331\n",
      "1427\n",
      "1530\n",
      "1641\n",
      "1760\n",
      "1887\n",
      "2023\n",
      "2170\n",
      "2327\n",
      "2495\n",
      "2676\n",
      "2869\n",
      "3077\n",
      "3299\n",
      "3538\n",
      "3794\n",
      "4068\n",
      "4362\n",
      "4678\n",
      "5016\n",
      "5379\n",
      "5768\n",
      "6185\n",
      "6633\n",
      "7112\n",
      "7627\n",
      "8178\n",
      "8770\n",
      "9404\n"
     ]
    }
   ],
   "source": [
    "totalPopulation = 50\n",
    "growthFactor = 1.005\n",
    "dayCount = 0\n",
    "\n",
    "while totalPopulation < 10000:\n",
    "    totalPopulation *= growthFactor\n",
    "    #Every 14th day, population is reported\n",
    "    dayCount += 1\n",
    "    if dayCount == 14:\n",
    "        dayCount = 0\n",
    "        print(int(totalPopulation))"
   ]
  },
  {
   "cell_type": "markdown",
   "id": "c1c7e854",
   "metadata": {},
   "source": [
    "### Adding More Variables to the Simulation"
   ]
  },
  {
   "cell_type": "code",
   "execution_count": 5,
   "id": "3d19b08d",
   "metadata": {},
   "outputs": [],
   "source": [
    "import random\n",
    "startingPopulation = 100\n",
    "infantMortality = 25    # This is the chance of a child dying in their first year of life.\n",
    "                        # Our World in Data estimates an average infant mortality rate of ~25% over the past two millennia.\n",
    "agriculture = 10        # The variable, agriculture, will be how many “units” of food each person produces.\n",
    "                        # One unit of food feeds a person for a single year.\n",
    "                        # In our simulation, each person must eat one unit of food every year or they will die.\n",
    "                        # Therefore, if agriculture is exactly 1 in a given year, everyone eats.\n",
    "                        # If it is 0.5, fifty percent of the population dies.\n",
    "                        # If it is 1.5, there is a fifty percent excess of food, \n",
    "                        # and this can be stored and used as a backup if the agriculture in the next year is not enough to support the population.\n",
    "disasterChance = 10     # This is the probability every year that some natural disaster comes along and damages the population.\n",
    "                        # It will affect the population by a random percentage, from 5–10%. \n",
    "                        # disasterChance at 10%, meaning on average every ten years a disaster will come along.\n",
    "food = 0                # Every year we will run a “harvest” function and the output of that harvest will be the population multiplied by agriculture.\n",
    "                        # Even if your agriculture is below 1, if you have stocks of food, you can theoretically maintain your population.\n",
    "fertilityx = 18\n",
    "fertilityy = 35         # These are the ages at which a women can become pregnant in our simulation. We are using the range of ages 18 to 35.\n",
    "peopleDictionary = []\n",
    "\n",
    "class Person:\n",
    "    def __init__(self, age):\n",
    "        self.gender = random.randint(0,1)\n",
    "        self.age = age\n",
    "\n",
    "# All “able” people, that is, anyone over 8 years old, works in the fields to produce food. This includes both men and women for simplicity.\n",
    "# A certain number of women in the fertility band give birth to babies every year.\n",
    "# Anyone over eighty years old dies.\n",
    "\n",
    "def harvest(food, agriculture):\n",
    "    ablePeople = 0\n",
    "    for person in peopleDictionary:\n",
    "        if person.age > 8:\n",
    "            ablePeople += 1\n",
    "    food += ablePeople * agriculture\n",
    "    if food < len(peopleDictionary):\n",
    "        del peopleDictionary[0 : len(peopleDictionary) - food] # it is deleting the selected range\n",
    "        food = 0  \n",
    "    else: food -= len(peopleDictionary)\n",
    "\n",
    "def reproduce(fertilityx, fertilityy):\n",
    "    for person in peopleDictionary if person.gender == 0 and person.age > fertilityx and person.age < fertilityy and random.randint(0,5) == 1 else None:\n",
    "         # we can choose either 0 or 1 for gender and any value from (0,1,2,3,4) for randint as it is used for probabilty\n",
    "        peopleDictionary.append(person(0))\n",
    "\n"
   ]
  },
  {
   "cell_type": "code",
   "execution_count": null,
   "id": "5f27d7cb",
   "metadata": {},
   "outputs": [],
   "source": [
    "def reproduce(fertilityx, fertilityy):\n",
    "    for person in peopleDictionary:\n",
    "        if person.gender == 1:\n",
    "            if person.age > fertilityx:\n",
    "                if person.age < fertilityy:\n",
    "                    if random.randint(0,5)==1:\n",
    "                        peopleDictionary.append(Person(0))\n",
    "                        "
   ]
  },
  {
   "cell_type": "code",
   "execution_count": null,
   "id": "36538601",
   "metadata": {},
   "outputs": [],
   "source": [
    "def beginSim():\n",
    "    for x in range(startingPopulation):\n",
    "        peopleDictionary.append(Person(random.randint(18,50)))\n",
    "        "
   ]
  },
  {
   "cell_type": "code",
   "execution_count": null,
   "id": "196ac4e4",
   "metadata": {},
   "outputs": [],
   "source": [
    "beginSim()"
   ]
  },
  {
   "cell_type": "code",
   "execution_count": null,
   "id": "c63dc85a",
   "metadata": {},
   "outputs": [],
   "source": [
    "def runYear(food, agriculture, fertilityx, fertilityy):\n",
    "    harvest(food, agriculture)\n",
    "    reproduce(fertilityx, fertilityy)\n",
    "    for person in peopleDictionary:\n",
    "        if person.age > 80:\n",
    "            peopleDictionary.remove(person)\n",
    "        else:\n",
    "            person.age +=1\n",
    "    \n",
    "    print(len(peopleDictionary))"
   ]
  },
  {
   "cell_type": "code",
   "execution_count": null,
   "id": "f4265783",
   "metadata": {},
   "outputs": [],
   "source": [
    "while len(peopleDictionary)<100000 and len(peopleDictionary) > 1:\n",
    "    runYear(food, agriculture, fertilityx, fertilityy)"
   ]
  },
  {
   "cell_type": "code",
   "execution_count": null,
   "id": "df12f696",
   "metadata": {},
   "outputs": [],
   "source": [
    "if random.randint(0,5)==1:\n",
    "     if random.randint(0,100)>infantMortality:\n",
    "           peopleDictionary.append(Person(0))"
   ]
  },
  {
   "cell_type": "code",
   "execution_count": null,
   "id": "932f1003",
   "metadata": {},
   "outputs": [],
   "source": [
    "infantMortality = runYear(food, agriculture, fertilityx, fertilityy)"
   ]
  },
  {
   "cell_type": "code",
   "execution_count": null,
   "id": "d1816f83",
   "metadata": {},
   "outputs": [],
   "source": [
    "#infantMortality *= 0.985\n",
    "#return infantMortality"
   ]
  },
  {
   "cell_type": "code",
   "execution_count": null,
   "id": "00650b1a",
   "metadata": {},
   "outputs": [],
   "source": [
    "if random.randint(0,100)<disasterChance:\n",
    "        del peopleDictionary[0:int(random.uniform(0.05,0.2)*len(peopleDictionary))]"
   ]
  },
  {
   "cell_type": "code",
   "execution_count": null,
   "id": "32ec7854",
   "metadata": {},
   "outputs": [],
   "source": []
  },
  {
   "cell_type": "code",
   "execution_count": null,
   "id": "8c4d73c6",
   "metadata": {},
   "outputs": [],
   "source": []
  },
  {
   "cell_type": "code",
   "execution_count": null,
   "id": "844b17d5",
   "metadata": {},
   "outputs": [],
   "source": []
  },
  {
   "cell_type": "code",
   "execution_count": 10,
   "id": "9b6247ff",
   "metadata": {},
   "outputs": [
    {
     "ename": "NameError",
     "evalue": "name 'ablePeople' is not defined",
     "output_type": "error",
     "traceback": [
      "\u001b[1;31m---------------------------------------------------------------------------\u001b[0m",
      "\u001b[1;31mNameError\u001b[0m                                 Traceback (most recent call last)",
      "Input \u001b[1;32mIn [10]\u001b[0m, in \u001b[0;36m<cell line: 21>\u001b[1;34m()\u001b[0m\n\u001b[0;32m     19\u001b[0m         \u001b[38;5;28;01mif\u001b[39;00m person\u001b[38;5;241m.\u001b[39mage \u001b[38;5;241m>\u001b[39m \u001b[38;5;241m8\u001b[39m:\n\u001b[0;32m     20\u001b[0m             ablePeople \u001b[38;5;241m+\u001b[39m\u001b[38;5;241m=\u001b[39m\u001b[38;5;241m1\u001b[39m\n\u001b[1;32m---> 21\u001b[0m food \u001b[38;5;241m+\u001b[39m\u001b[38;5;241m=\u001b[39m \u001b[43mablePeople\u001b[49m \u001b[38;5;241m*\u001b[39m agriculture\n\u001b[0;32m     22\u001b[0m \u001b[38;5;28;01mif\u001b[39;00m food \u001b[38;5;241m<\u001b[39m \u001b[38;5;28mlen\u001b[39m(peopleDictionary):\n\u001b[0;32m     23\u001b[0m         \u001b[38;5;28;01mdel\u001b[39;00m peopleDictionary[\u001b[38;5;241m0\u001b[39m:\u001b[38;5;28mint\u001b[39m(\u001b[38;5;28mlen\u001b[39m(peopleDictionary)\u001b[38;5;241m-\u001b[39mfood)]\n",
      "\u001b[1;31mNameError\u001b[0m: name 'ablePeople' is not defined"
     ]
    }
   ],
   "source": [
    "import random\n",
    "startPopulation = 50\n",
    "infantMortality = 5\n",
    "youthMortality = 45\n",
    "agriculture = 5\n",
    "disasterChance = 10\n",
    "fertilityx = 18\n",
    "fertilityy = 35\n",
    "food = 0\n",
    "peopleDictionary = []\n",
    "class Person:\n",
    "    def __init__(self, age):\n",
    "        self.gender = random.randint(0,1)\n",
    "        self.age = age\n",
    "        self.pregnant = 0\n",
    "def harvest(food, agriculture):\n",
    "    ablePeople = 0\n",
    "    for person in peopleDictionary:\n",
    "        if person.age > 8:\n",
    "            ablePeople +=1\n",
    "food += ablePeople * agriculture\n",
    "if food < len(peopleDictionary):\n",
    "        del peopleDictionary[0:int(len(peopleDictionary)-food)]\n",
    "        food = 0\n",
    "else:\n",
    "    food -= len(peopleDictionary)\n",
    "def reproduce(fertilityx, fertilityy, infantMortality):\n",
    "    for person in peopleDictionary:\n",
    "        if person.gender == 1:\n",
    "            if person.age > fertilityx:\n",
    "                if person.age < fertilityy:\n",
    "                    if random.randint(0,5)==1:\n",
    "                        if random.randint(0,100)>infantMortality:\n",
    "                            peopleDictionary.append(Person(0))\n",
    "def beginSim():\n",
    "    for x in range(startPopulation):\n",
    "        peopleDictionary.append(Person(random.randint(18,50)))\n",
    "def runYear(food, agriculture, fertilityx, fertilityy, infantMortality, disasterChance):\n",
    "    harvest(food, agriculture)\n",
    "    for person in peopleDictionary:\n",
    "        if person.age > 80:\n",
    "            peopleDictionary.remove(person)\n",
    "        else:\n",
    "            person.age +=1\n",
    "    \n",
    "    reproduce(fertilityx, fertilityy, infantMortality)\n",
    "if random.randint(0,100)<disasterChance:\n",
    "        del peopleDictionary[0:int(random.uniform(0.05,0.2)*len(peopleDictionary))]\n",
    "        print(len(peopleDictionary))\n",
    "        infantMortality *= 0.985\n",
    "        return infantMortality\n",
    "beginSim()\n",
    "while len(peopleDictionary)<100000 and len(peopleDictionary) > 1:\n",
    "    infantMortality = runYear(food, agriculture, fertilityx, fertilityy, infantMortality, disasterChance)"
   ]
  },
  {
   "cell_type": "code",
   "execution_count": null,
   "id": "cd07dda0",
   "metadata": {},
   "outputs": [],
   "source": []
  }
 ],
 "metadata": {
  "kernelspec": {
   "display_name": "Python 3.10.5 64-bit",
   "language": "python",
   "name": "python3"
  },
  "language_info": {
   "codemirror_mode": {
    "name": "ipython",
    "version": 3
   },
   "file_extension": ".py",
   "mimetype": "text/x-python",
   "name": "python",
   "nbconvert_exporter": "python",
   "pygments_lexer": "ipython3",
   "version": "3.10.5"
  },
  "vscode": {
   "interpreter": {
    "hash": "b6213e0af081d56db034f795ff49d96980936e2ae540dda57fc6c3cbea6a5fc9"
   }
  }
 },
 "nbformat": 4,
 "nbformat_minor": 5
}
