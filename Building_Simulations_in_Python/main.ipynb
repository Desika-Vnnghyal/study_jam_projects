{
 "cells": [
  {
   "cell_type": "code",
   "execution_count": null,
   "id": "2b4d8f25",
   "metadata": {},
   "outputs": [],
   "source": [
    "import random\n",
    "startingPopulation = 50\n",
    "infantMortality = 25\n",
    "agriculture = 5\n",
    "disasterChance = 10\n",
    "food = 0\n",
    "fertilityx = 18\n",
    "fertilityy = 35\n",
    "peopleDictionary = []\n"
   ]
  },
  {
   "cell_type": "code",
   "execution_count": null,
   "id": "105d1563",
   "metadata": {},
   "outputs": [],
   "source": [
    "class Person:\n",
    "    def __init__(self, age):\n",
    "        self.gender = random.randint(0,1)\n",
    "        self.age = age\n",
    "        "
   ]
  },
  {
   "cell_type": "code",
   "execution_count": null,
   "id": "602b0b91",
   "metadata": {},
   "outputs": [],
   "source": [
    "def harvest(food, agriculture):\n",
    "    ablePeople = 0\n",
    "    for person in peopleDictionary:\n",
    "        if person.age > 8:\n",
    "            ablePeople +=1\n",
    "    food += ablePeople * agriculture\n",
    "    if food < len(peopleDictionary):\n",
    "        del peopleDictionary[0:int(len(peopleDictionary)-food)]\n",
    "        food = 0\n",
    "    else:\n",
    "        food -= len(peopleDictionary)\n",
    "        "
   ]
  },
  {
   "cell_type": "code",
   "execution_count": null,
   "id": "5f27d7cb",
   "metadata": {},
   "outputs": [],
   "source": [
    "def reproduce(fertilityx, fertilityy):\n",
    "    for person in peopleDictionary:\n",
    "        if person.gender == 1:\n",
    "            if person.age > fertilityx:\n",
    "                if person.age < fertilityy:\n",
    "                    if random.randint(0,5)==1:\n",
    "                        peopleDictionary.append(Person(0))\n",
    "                        "
   ]
  },
  {
   "cell_type": "code",
   "execution_count": null,
   "id": "36538601",
   "metadata": {},
   "outputs": [],
   "source": [
    "def beginSim():\n",
    "    for x in range(startingPopulation):\n",
    "        peopleDictionary.append(Person(random.randint(18,50)))\n",
    "        "
   ]
  },
  {
   "cell_type": "code",
   "execution_count": null,
   "id": "196ac4e4",
   "metadata": {},
   "outputs": [],
   "source": [
    "beginSim()"
   ]
  },
  {
   "cell_type": "code",
   "execution_count": null,
   "id": "c63dc85a",
   "metadata": {},
   "outputs": [],
   "source": [
    "def runYear(food, agriculture, fertilityx, fertilityy):\n",
    "    harvest(food, agriculture)\n",
    "    reproduce(fertilityx, fertilityy)\n",
    "    for person in peopleDictionary:\n",
    "        if person.age > 80:\n",
    "            peopleDictionary.remove(person)\n",
    "        else:\n",
    "            person.age +=1\n",
    "    \n",
    "    print(len(peopleDictionary))"
   ]
  },
  {
   "cell_type": "code",
   "execution_count": null,
   "id": "f4265783",
   "metadata": {},
   "outputs": [],
   "source": [
    "while len(peopleDictionary)<100000 and len(peopleDictionary) > 1:\n",
    "    runYear(food, agriculture, fertilityx, fertilityy)"
   ]
  },
  {
   "cell_type": "code",
   "execution_count": null,
   "id": "df12f696",
   "metadata": {},
   "outputs": [],
   "source": [
    "if random.randint(0,5)==1:\n",
    "     if random.randint(0,100)>infantMortality:\n",
    "           peopleDictionary.append(Person(0))"
   ]
  },
  {
   "cell_type": "code",
   "execution_count": null,
   "id": "932f1003",
   "metadata": {},
   "outputs": [],
   "source": [
    "infantMortality = runYear(food, agriculture, fertilityx, fertilityy)"
   ]
  },
  {
   "cell_type": "code",
   "execution_count": null,
   "id": "d1816f83",
   "metadata": {},
   "outputs": [],
   "source": [
    "#infantMortality *= 0.985\n",
    "#return infantMortality"
   ]
  },
  {
   "cell_type": "code",
   "execution_count": null,
   "id": "00650b1a",
   "metadata": {},
   "outputs": [],
   "source": [
    "if random.randint(0,100)<disasterChance:\n",
    "        del peopleDictionary[0:int(random.uniform(0.05,0.2)*len(peopleDictionary))]"
   ]
  },
  {
   "cell_type": "code",
   "execution_count": null,
   "id": "32ec7854",
   "metadata": {},
   "outputs": [],
   "source": []
  },
  {
   "cell_type": "code",
   "execution_count": null,
   "id": "8c4d73c6",
   "metadata": {},
   "outputs": [],
   "source": []
  },
  {
   "cell_type": "code",
   "execution_count": null,
   "id": "844b17d5",
   "metadata": {},
   "outputs": [],
   "source": []
  },
  {
   "cell_type": "code",
   "execution_count": 10,
   "id": "9b6247ff",
   "metadata": {},
   "outputs": [
    {
     "ename": "NameError",
     "evalue": "name 'ablePeople' is not defined",
     "output_type": "error",
     "traceback": [
      "\u001b[1;31m---------------------------------------------------------------------------\u001b[0m",
      "\u001b[1;31mNameError\u001b[0m                                 Traceback (most recent call last)",
      "Input \u001b[1;32mIn [10]\u001b[0m, in \u001b[0;36m<cell line: 21>\u001b[1;34m()\u001b[0m\n\u001b[0;32m     19\u001b[0m         \u001b[38;5;28;01mif\u001b[39;00m person\u001b[38;5;241m.\u001b[39mage \u001b[38;5;241m>\u001b[39m \u001b[38;5;241m8\u001b[39m:\n\u001b[0;32m     20\u001b[0m             ablePeople \u001b[38;5;241m+\u001b[39m\u001b[38;5;241m=\u001b[39m\u001b[38;5;241m1\u001b[39m\n\u001b[1;32m---> 21\u001b[0m food \u001b[38;5;241m+\u001b[39m\u001b[38;5;241m=\u001b[39m \u001b[43mablePeople\u001b[49m \u001b[38;5;241m*\u001b[39m agriculture\n\u001b[0;32m     22\u001b[0m \u001b[38;5;28;01mif\u001b[39;00m food \u001b[38;5;241m<\u001b[39m \u001b[38;5;28mlen\u001b[39m(peopleDictionary):\n\u001b[0;32m     23\u001b[0m         \u001b[38;5;28;01mdel\u001b[39;00m peopleDictionary[\u001b[38;5;241m0\u001b[39m:\u001b[38;5;28mint\u001b[39m(\u001b[38;5;28mlen\u001b[39m(peopleDictionary)\u001b[38;5;241m-\u001b[39mfood)]\n",
      "\u001b[1;31mNameError\u001b[0m: name 'ablePeople' is not defined"
     ]
    }
   ],
   "source": [
    "import random\n",
    "startPopulation = 50\n",
    "infantMortality = 5\n",
    "youthMortality = 45\n",
    "agriculture = 5\n",
    "disasterChance = 10\n",
    "fertilityx = 18\n",
    "fertilityy = 35\n",
    "food = 0\n",
    "peopleDictionary = []\n",
    "class Person:\n",
    "    def __init__(self, age):\n",
    "        self.gender = random.randint(0,1)\n",
    "        self.age = age\n",
    "        self.pregnant = 0\n",
    "def harvest(food, agriculture):\n",
    "    ablePeople = 0\n",
    "    for person in peopleDictionary:\n",
    "        if person.age > 8:\n",
    "            ablePeople +=1\n",
    "food += ablePeople * agriculture\n",
    "if food < len(peopleDictionary):\n",
    "        del peopleDictionary[0:int(len(peopleDictionary)-food)]\n",
    "        food = 0\n",
    "else:\n",
    "    food -= len(peopleDictionary)\n",
    "def reproduce(fertilityx, fertilityy, infantMortality):\n",
    "    for person in peopleDictionary:\n",
    "        if person.gender == 1:\n",
    "            if person.age > fertilityx:\n",
    "                if person.age < fertilityy:\n",
    "                    if random.randint(0,5)==1:\n",
    "                        if random.randint(0,100)>infantMortality:\n",
    "                            peopleDictionary.append(Person(0))\n",
    "def beginSim():\n",
    "    for x in range(startPopulation):\n",
    "        peopleDictionary.append(Person(random.randint(18,50)))\n",
    "def runYear(food, agriculture, fertilityx, fertilityy, infantMortality, disasterChance):\n",
    "    harvest(food, agriculture)\n",
    "    for person in peopleDictionary:\n",
    "        if person.age > 80:\n",
    "            peopleDictionary.remove(person)\n",
    "        else:\n",
    "            person.age +=1\n",
    "    \n",
    "    reproduce(fertilityx, fertilityy, infantMortality)\n",
    "if random.randint(0,100)<disasterChance:\n",
    "        del peopleDictionary[0:int(random.uniform(0.05,0.2)*len(peopleDictionary))]\n",
    "        print(len(peopleDictionary))\n",
    "        infantMortality *= 0.985\n",
    "        return infantMortality\n",
    "beginSim()\n",
    "while len(peopleDictionary)<100000 and len(peopleDictionary) > 1:\n",
    "    infantMortality = runYear(food, agriculture, fertilityx, fertilityy, infantMortality, disasterChance)"
   ]
  },
  {
   "cell_type": "code",
   "execution_count": null,
   "id": "cd07dda0",
   "metadata": {},
   "outputs": [],
   "source": []
  }
 ],
 "metadata": {
  "kernelspec": {
   "display_name": "Python 3 (ipykernel)",
   "language": "python",
   "name": "python3"
  },
  "language_info": {
   "codemirror_mode": {
    "name": "ipython",
    "version": 3
   },
   "file_extension": ".py",
   "mimetype": "text/x-python",
   "name": "python",
   "nbconvert_exporter": "python",
   "pygments_lexer": "ipython3",
   "version": "3.9.12"
  }
 },
 "nbformat": 4,
 "nbformat_minor": 5
}
